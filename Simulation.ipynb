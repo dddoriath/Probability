{
  "nbformat": 4,
  "nbformat_minor": 0,
  "metadata": {
    "colab": {
      "name": "Simulation.ipynb",
      "provenance": [],
      "collapsed_sections": [],
      "authorship_tag": "ABX9TyNyl2ArkqC2zR3+raBFknEZ",
      "include_colab_link": true
    },
    "kernelspec": {
      "name": "python3",
      "display_name": "Python 3"
    },
    "language_info": {
      "name": "python"
    }
  },
  "cells": [
    {
      "cell_type": "markdown",
      "metadata": {
        "id": "view-in-github",
        "colab_type": "text"
      },
      "source": [
        "<a href=\"https://colab.research.google.com/github/dddoriath/Probability/blob/main/Simulation.ipynb\" target=\"_parent\"><img src=\"https://colab.research.google.com/assets/colab-badge.svg\" alt=\"Open In Colab\"/></a>"
      ]
    },
    {
      "cell_type": "code",
      "source": [
        "import random\n",
        "import numpy as np"
      ],
      "metadata": {
        "id": "HqQs4Dp1czzO"
      },
      "execution_count": 1,
      "outputs": []
    },
    {
      "cell_type": "markdown",
      "source": [
        "###Two unbiased dice are thrown once and the total score is observed. Use a simulation to find the estimated probability that the total score is greater than 7?"
      ],
      "metadata": {
        "id": "E3Y8bQACdrza"
      }
    },
    {
      "cell_type": "code",
      "execution_count": null,
      "metadata": {
        "colab": {
          "base_uri": "https://localhost:8080/"
        },
        "id": "SN93TxSNcFB8",
        "outputId": "d312aaf0-a09e-4f1d-92f9-f585abeffcb5"
      },
      "outputs": [
        {
          "output_type": "stream",
          "name": "stdout",
          "text": [
            "The probability of rolling greater than 7 is: 41.62 %\n"
          ]
        }
      ],
      "source": [
        "#function for roll the Dice\n",
        "def roll_the_dice (n_simulations = 100000):\n",
        "  count = 0\n",
        "\n",
        "  #each iteration of the for loop is trial\n",
        "  for i in range (n_simulations):\n",
        "\n",
        "    #Roll each Die\n",
        "    die1 = random.randint (1, 6)\n",
        "    die2 = random.randint (1, 6)\n",
        "\n",
        "    #Sum the values to get the score\n",
        "    score = die1 + die2\n",
        "\n",
        "    #decide if we should add it to the count\n",
        "    if score > 7:\n",
        "      count += 1\n",
        "\n",
        "  return count/n_simulations\n",
        "\n",
        "string = 'The probability of rolling greater than 7 is:'\n",
        "print(string, np.round(roll_the_dice()*100,2),'%')"
      ]
    },
    {
      "cell_type": "markdown",
      "source": [
        "###when randomly pick 2 cards from a set of 30 cards labelled 1-30, what is the prob that the sum of 2 numbers are greater than or equal to 55? （18/870）"
      ],
      "metadata": {
        "id": "PZ4KtyHfjMZw"
      }
    },
    {
      "cell_type": "code",
      "source": [
        "#function for not put the card back to the deck\n",
        "def sum_two_cards (n_simulations = 1000000):\n",
        "  count = 0\n",
        "\n",
        "  #each iteration of the for loop is trial\n",
        "  for i in range (n_simulations):\n",
        "\n",
        "    unused_cards = list(range(1,31))\n",
        "    used_cards = []\n",
        "\n",
        "    #pick one card\n",
        "    card1 = random.choice(unused_cards)\n",
        "\n",
        "    used_cards.append(card1)\n",
        "    unused_cards=[f for f in unused_cards if f not in used_cards]\n",
        "\n",
        "    card2 = random.choice(unused_cards)\n",
        "\n",
        "    #Sum the values to get the score\n",
        "    score = card1 + card2\n",
        "\n",
        "    #decide if we should add it to the count\n",
        "    if score >= 55:\n",
        "      count += 1\n",
        "\n",
        "  return count/n_simulations\n",
        "\n",
        "string = 'The probability of sum greater than or equal to 55 is:'\n",
        "print(string, np.round(sum_two_cards()*100,2),'%')"
      ],
      "metadata": {
        "colab": {
          "base_uri": "https://localhost:8080/"
        },
        "id": "vmF-wd-ijVqO",
        "outputId": "052218eb-0efb-40fa-de13-102ae37c2afa"
      },
      "execution_count": null,
      "outputs": [
        {
          "output_type": "stream",
          "name": "stdout",
          "text": [
            "The probability of sum greater than or equal to 55 is: 2.09 %\n"
          ]
        }
      ]
    },
    {
      "cell_type": "markdown",
      "source": [
        "### What is the probability that the rollers at the two craps tables roll the same value?"
      ],
      "metadata": {
        "id": "GOtNu4MbKzlJ"
      }
    },
    {
      "cell_type": "code",
      "source": [
        "def sum_two_dices(n_simulations = 1000000):\n",
        "  count = 0\n",
        "  regular_dice = list(range(1,7))\n",
        "\n",
        "  for i in range(n_simulations):\n",
        "    dice1_1 = random.choice(regular_dice)\n",
        "    dice1_2 = random.choice(regular_dice)\n",
        "    dice1_sum = dice1_1 + dice1_2\n",
        "\n",
        "    dice2_1 = random.choice(regular_dice)\n",
        "    dice2_2 = random.choice(regular_dice)\n",
        "    dice2_sum = dice2_1 + dice2_2\n",
        "\n",
        "    if dice1_sum == dice2_sum:\n",
        "      count +=1\n",
        "  return count/n_simulations\n",
        "\n",
        "string = 'The probability that the rollers at the two craps tables roll the same value is'\n",
        "print(string, np.round(sum_two_dices()*100,2),'%')\n"
      ],
      "metadata": {
        "colab": {
          "base_uri": "https://localhost:8080/"
        },
        "id": "pfQ3vApoJekJ",
        "outputId": "4966d9df-2e7b-4f86-bdb6-976740e92b71"
      },
      "execution_count": 9,
      "outputs": [
        {
          "output_type": "stream",
          "name": "stdout",
          "text": [
            "The probability that the rollers at the two craps tables roll the same value is 11.24 %\n"
          ]
        }
      ]
    },
    {
      "cell_type": "markdown",
      "source": [
        "### You roll two dice 5 times and, every time, one of the dice comes up as 1 and the other as 6, repeated for 1M times. "
      ],
      "metadata": {
        "id": "ApPWY7tPflyL"
      }
    },
    {
      "cell_type": "code",
      "source": [
        "def roll_two_dices_n_times(n_simulations = 1000000):\n",
        "  count = 0\n",
        "  n_times = 5\n",
        "\n",
        "  for i in range(n_simulations):\n",
        "    n = 0\n",
        "    passed = True\n",
        "    \n",
        "    while n < n_times and passed:\n",
        "\n",
        "      die1 = random.randint(1, 6)\n",
        "      die2 = random.randint(1, 6)\n",
        "\n",
        "      if (die1 == 1 and die2 ==6) or (die1 == 6 and die2 ==1):\n",
        "        n += 1\n",
        "      else:\n",
        "        passed = False\n",
        "\n",
        "    if n == n_times:\n",
        "      count += 1\n",
        "\n",
        "  return count\n",
        "\n",
        "string = 'You roll two dice 5 times and, every time, one of the dice comes up as 1 and the other as 6 is, repeated for 1,000,000 times, you got'\n",
        "print(string, np.round(roll_two_dices_n_times(),2),'win')"
      ],
      "metadata": {
        "colab": {
          "base_uri": "https://localhost:8080/"
        },
        "id": "G_99D__MhxXQ",
        "outputId": "16ad166f-c0e5-4ad1-e7fa-018d3a516aa3"
      },
      "execution_count": 31,
      "outputs": [
        {
          "output_type": "stream",
          "name": "stdout",
          "text": [
            "You roll two dice 5 times and, every time, one of the dice comes up as 1 and the other as 6 is, repeated for 1,000,000 times, you got 1 win\n"
          ]
        }
      ]
    },
    {
      "cell_type": "markdown",
      "source": [
        "###You roll 10 dice all at once. Five of the dice come up as 1s and the rest come up as 6s."
      ],
      "metadata": {
        "id": "IGslmKEfuirI"
      }
    },
    {
      "cell_type": "code",
      "source": [
        "def roll_ten_dices(n_simulations = 1000000):\n",
        "  count = 0\n",
        "\n",
        "  for i in range(n_simulations):\n",
        "    die_result = []\n",
        "    for n in range(10):\n",
        "      die = random.randint(1, 6)\n",
        "      die_result.append(die)\n",
        "    die_result.sort()\n",
        "    if die_result == [1,1,1,1,1,6,6,6,6,6]:\n",
        "      count += 1\n",
        "\n",
        "  return count\n",
        "\n",
        "string = 'You roll 10 dice all at once. Five of the dice come up as 1s and the rest come up as 6s, repeated for 1,000,000 times, you got'\n",
        "print(string, np.round(roll_ten_dices(),2),'win')"
      ],
      "metadata": {
        "colab": {
          "base_uri": "https://localhost:8080/"
        },
        "id": "Mm8k2vCOupo3",
        "outputId": "1dcc8982-37fb-46a0-bfe9-c64c26870ac0"
      },
      "execution_count": 48,
      "outputs": [
        {
          "output_type": "stream",
          "name": "stdout",
          "text": [
            "You roll two dice 5 times and, every time, one of the dice comes up as 1 and the other as 6 is, repeated for 1,000,000 times, you got 7 win\n"
          ]
        }
      ]
    }
  ]
}