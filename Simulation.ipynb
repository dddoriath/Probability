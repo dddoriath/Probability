{
  "nbformat": 4,
  "nbformat_minor": 0,
  "metadata": {
    "colab": {
      "name": "Simulation.ipynb",
      "provenance": [],
      "collapsed_sections": [],
      "authorship_tag": "ABX9TyPg8LGZqTC3GDHp4i5JeCfR",
      "include_colab_link": true
    },
    "kernelspec": {
      "name": "python3",
      "display_name": "Python 3"
    },
    "language_info": {
      "name": "python"
    }
  },
  "cells": [
    {
      "cell_type": "markdown",
      "metadata": {
        "id": "view-in-github",
        "colab_type": "text"
      },
      "source": [
        "<a href=\"https://colab.research.google.com/github/dddoriath/Probability/blob/main/Simulation.ipynb\" target=\"_parent\"><img src=\"https://colab.research.google.com/assets/colab-badge.svg\" alt=\"Open In Colab\"/></a>"
      ]
    },
    {
      "cell_type": "code",
      "source": [
        "import random\n",
        "import numpy as np"
      ],
      "metadata": {
        "id": "HqQs4Dp1czzO"
      },
      "execution_count": 4,
      "outputs": []
    },
    {
      "cell_type": "markdown",
      "source": [
        "###Two unbiased dice are thrown once and the total score is observed. Use a simulation to find the estimated probability that the total score is greater than 7?"
      ],
      "metadata": {
        "id": "E3Y8bQACdrza"
      }
    },
    {
      "cell_type": "code",
      "execution_count": 8,
      "metadata": {
        "colab": {
          "base_uri": "https://localhost:8080/"
        },
        "id": "SN93TxSNcFB8",
        "outputId": "d312aaf0-a09e-4f1d-92f9-f585abeffcb5"
      },
      "outputs": [
        {
          "output_type": "stream",
          "name": "stdout",
          "text": [
            "The probability of rolling greater than 7 is: 41.62 %\n"
          ]
        }
      ],
      "source": [
        "#function for roll the Dice\n",
        "def roll_the_dice (n_simulations = 100000):\n",
        "  count = 0\n",
        "\n",
        "  #each iteration of the for loop is trial\n",
        "  for i in range (n_simulations):\n",
        "\n",
        "    #Roll each Die\n",
        "    die1 = random.randint (1, 6)\n",
        "    die2 = random.randint (1, 6)\n",
        "\n",
        "    #Sum the values to get the score\n",
        "    score = die1 + die2\n",
        "\n",
        "    #decide if we should add it to the count\n",
        "    if score > 7:\n",
        "      count += 1\n",
        "\n",
        "  return count/n_simulations\n",
        "\n",
        "string = 'The probability of rolling greater than 7 is:'\n",
        "print (string, np. round (roll_the_dice ()*100,2),'%')"
      ]
    },
    {
      "cell_type": "markdown",
      "source": [
        "###when randomly pick 2 cards from a set of 30 cards labelled 1-30, what is the prob that the sum of 2 numbers are greater than or equal to 55? （18/870）"
      ],
      "metadata": {
        "id": "PZ4KtyHfjMZw"
      }
    },
    {
      "cell_type": "code",
      "source": [
        "#function for not put the card back to the deck\n",
        "def sum_two_cards (n_simulations = 1000000):\n",
        "  count = 0\n",
        "\n",
        "  #each iteration of the for loop is trial\n",
        "  for i in range (n_simulations):\n",
        "\n",
        "    unused_cards = list(range(1,31))\n",
        "    used_cards = []\n",
        "\n",
        "    #pick one card\n",
        "    card1 = random.choice(unused_cards)\n",
        "\n",
        "    used_cards.append(card1)\n",
        "    unused_cards=[f for f in unused_cards if f not in used_cards]\n",
        "\n",
        "    card2 = random.choice(unused_cards)\n",
        "\n",
        "    #Sum the values to get the score\n",
        "    score = card1 + card2\n",
        "\n",
        "    #decide if we should add it to the count\n",
        "    if score >= 55:\n",
        "      count += 1\n",
        "\n",
        "  return count/n_simulations\n",
        "\n",
        "string = 'The probability of sum greater than or equal to 55 is:'\n",
        "print (string, np. round (sum_two_cards()*100,2),'%')"
      ],
      "metadata": {
        "colab": {
          "base_uri": "https://localhost:8080/"
        },
        "id": "vmF-wd-ijVqO",
        "outputId": "052218eb-0efb-40fa-de13-102ae37c2afa"
      },
      "execution_count": 27,
      "outputs": [
        {
          "output_type": "stream",
          "name": "stdout",
          "text": [
            "The probability of sum greater than or equal to 55 is: 2.09 %\n"
          ]
        }
      ]
    }
  ]
}