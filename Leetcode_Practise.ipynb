{
  "nbformat": 4,
  "nbformat_minor": 0,
  "metadata": {
    "colab": {
      "name": "Leetcode_Practise.ipynb",
      "provenance": [],
      "authorship_tag": "ABX9TyOLm7dwtyT9GMJMKektbl6X",
      "include_colab_link": true
    },
    "kernelspec": {
      "name": "python3",
      "display_name": "Python 3"
    },
    "language_info": {
      "name": "python"
    }
  },
  "cells": [
    {
      "cell_type": "markdown",
      "metadata": {
        "id": "view-in-github",
        "colab_type": "text"
      },
      "source": [
        "<a href=\"https://colab.research.google.com/github/dddoriath/Probability/blob/main/Leetcode_Practise.ipynb\" target=\"_parent\"><img src=\"https://colab.research.google.com/assets/colab-badge.svg\" alt=\"Open In Colab\"/></a>"
      ]
    },
    {
      "cell_type": "markdown",
      "source": [
        "### 896. Monotonic Array"
      ],
      "metadata": {
        "id": "14UyHKEJAabs"
      }
    },
    {
      "cell_type": "code",
      "execution_count": null,
      "metadata": {
        "colab": {
          "base_uri": "https://localhost:8080/"
        },
        "id": "Y_qGLyzAs6pV",
        "outputId": "a0d87c97-66a0-4d47-d73e-1b5c829ca762"
      },
      "outputs": [
        {
          "output_type": "stream",
          "name": "stdout",
          "text": [
            "True\n"
          ]
        }
      ],
      "source": [
        "nums = [4,3,3,1]\n",
        "is_asc_monotonic = True\n",
        "is_desc_monotonic = True\n",
        "\n",
        "n=0\n",
        "while n < len(nums)-1:\n",
        "  if nums[n] < nums[n+1]:\n",
        "    is_desc_monotonic = False\n",
        "  if nums[n] > nums[n+1]:\n",
        "    is_asc_monotonic = False\n",
        "  n +=1\n",
        "                \n",
        "print(is_asc_monotonic or is_desc_monotonic)"
      ]
    },
    {
      "cell_type": "markdown",
      "source": [
        "### Capitalize First Letter"
      ],
      "metadata": {
        "id": "YJZ3jXFqAR93"
      }
    },
    {
      "cell_type": "code",
      "source": [
        "s = \"this's a title that needs CAPITALIZING\"\n",
        "print(\"Original string:\")\n",
        "print(s)\n",
        "print(\"After title method:\")\n",
        "print(str.title(s))"
      ],
      "metadata": {
        "colab": {
          "base_uri": "https://localhost:8080/"
        },
        "id": "mNJadSEp3nnu",
        "outputId": "7dd16d4d-79b3-498f-9cd9-edfe5cd5831e"
      },
      "execution_count": 6,
      "outputs": [
        {
          "output_type": "stream",
          "name": "stdout",
          "text": [
            "Original string:\n",
            "this's a title that needs CAPITALIZING\n",
            "After title method:\n",
            "This'S A Title That Needs Capitalizing\n"
          ]
        }
      ]
    },
    {
      "cell_type": "code",
      "source": [
        "s = \"this's a title that needs CAPITALIZING\"\n",
        "print(\"Original string:\")\n",
        "print(s) \n",
        "slist = s.split()\n",
        "\n",
        "result = \"\"\n",
        "\n",
        "for word in slist:\n",
        "  word = word[0].upper() + word[1:] + \" \"\n",
        "  result = result + word\n",
        "\n",
        "print(result)"
      ],
      "metadata": {
        "colab": {
          "base_uri": "https://localhost:8080/"
        },
        "id": "JpztsUF06oL5",
        "outputId": "78e0d527-fd49-45cd-d78f-88d7c9586f7a"
      },
      "execution_count": 13,
      "outputs": [
        {
          "output_type": "stream",
          "name": "stdout",
          "text": [
            "Original string:\n",
            "this's a title that needs CAPITALIZING\n",
            "This's A Title That Needs CAPITALIZING \n"
          ]
        }
      ]
    },
    {
      "cell_type": "markdown",
      "source": [
        "###Compute sum of digits in a string"
      ],
      "metadata": {
        "id": "BRYKDewCBD7R"
      }
    },
    {
      "cell_type": "code",
      "source": [
        "def sum_digits_string(str1):\n",
        "    sum_digit = 0\n",
        "    for x in str1:\n",
        "        if x.isdigit() == True:\n",
        "            z = int(x)\n",
        "            sum_digit = sum_digit + z\n",
        "    return sum_digit\n",
        "     \n",
        "print(sum_digits_string(\"12345\"))\n",
        "print(sum_digits_string(\"5abcd1234\"))"
      ],
      "metadata": {
        "colab": {
          "base_uri": "https://localhost:8080/"
        },
        "id": "SoRVjAEtAYFB",
        "outputId": "09aded32-0a04-4d4f-b6fc-ec9e135c2e15"
      },
      "execution_count": 15,
      "outputs": [
        {
          "output_type": "stream",
          "name": "stdout",
          "text": [
            "15\n",
            "15\n"
          ]
        }
      ]
    },
    {
      "cell_type": "markdown",
      "source": [
        "### Fibonacci Number"
      ],
      "metadata": {
        "id": "-GnVvhs2CYOk"
      }
    },
    {
      "cell_type": "code",
      "source": [
        "def fib_loop(n):\n",
        "  a, b=0,1\n",
        "  for i in range(n+1) :\n",
        "    a, b=b, a+b\n",
        "  return a\n",
        "\n",
        "for i in range (20):\n",
        "  print(fib_loop(i), end=' ')"
      ],
      "metadata": {
        "colab": {
          "base_uri": "https://localhost:8080/"
        },
        "id": "MlM2k7RMB2hb",
        "outputId": "75c33f51-c642-4dc9-c590-576a32f485ee"
      },
      "execution_count": 16,
      "outputs": [
        {
          "output_type": "stream",
          "name": "stdout",
          "text": [
            "1 1 2 3 5 8 13 21 34 55 89 144 233 377 610 987 1597 2584 4181 6765 "
          ]
        }
      ]
    }
  ]
}