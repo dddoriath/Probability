{
  "nbformat": 4,
  "nbformat_minor": 0,
  "metadata": {
    "colab": {
      "name": "Leetcode_Practise.ipynb",
      "provenance": [],
      "authorship_tag": "ABX9TyODT5ehae7Fc/WCqZnyxVNy",
      "include_colab_link": true
    },
    "kernelspec": {
      "name": "python3",
      "display_name": "Python 3"
    },
    "language_info": {
      "name": "python"
    }
  },
  "cells": [
    {
      "cell_type": "markdown",
      "metadata": {
        "id": "view-in-github",
        "colab_type": "text"
      },
      "source": [
        "<a href=\"https://colab.research.google.com/github/dddoriath/Probability/blob/main/Leetcode_Practise.ipynb\" target=\"_parent\"><img src=\"https://colab.research.google.com/assets/colab-badge.svg\" alt=\"Open In Colab\"/></a>"
      ]
    },
    {
      "cell_type": "markdown",
      "source": [
        "#### 896. Monotonic Array"
      ],
      "metadata": {
        "id": "14UyHKEJAabs"
      }
    },
    {
      "cell_type": "code",
      "execution_count": 19,
      "metadata": {
        "colab": {
          "base_uri": "https://localhost:8080/"
        },
        "id": "Y_qGLyzAs6pV",
        "outputId": "a0d87c97-66a0-4d47-d73e-1b5c829ca762"
      },
      "outputs": [
        {
          "output_type": "stream",
          "name": "stdout",
          "text": [
            "True\n"
          ]
        }
      ],
      "source": [
        "nums = [4,3,3,1]\n",
        "is_asc_monotonic = True\n",
        "is_desc_monotonic = True\n",
        "\n",
        "n=0\n",
        "while n < len(nums)-1:\n",
        "  if nums[n] < nums[n+1]:\n",
        "    is_desc_monotonic = False\n",
        "  if nums[n] > nums[n+1]:\n",
        "    is_asc_monotonic = False\n",
        "  n +=1\n",
        "                \n",
        "print(is_asc_monotonic or is_desc_monotonic)"
      ]
    }
  ]
}